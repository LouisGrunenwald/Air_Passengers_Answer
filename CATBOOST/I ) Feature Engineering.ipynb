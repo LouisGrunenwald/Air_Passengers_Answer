{
 "cells": [
  {
   "cell_type": "code",
   "execution_count": 1,
   "metadata": {
    "ExecuteTime": {
     "end_time": "2020-03-20T15:22:11.470818Z",
     "start_time": "2020-03-20T15:22:10.126456Z"
    }
   },
   "outputs": [],
   "source": [
    "import imp\n",
    "import numpy as np\n",
    "import pandas as pd\n",
    "import matplotlib.pyplot as plt\n",
    "pd.set_option('display.max_columns', None)\n",
    "import seaborn as sns; sns.set()\n",
    "from copy import deepcopy\n",
    "import catboost as cgb\n",
    "from bayes_opt import BayesianOptimization\n",
    "from sklearn.datasets import load_boston\n",
    "from skopt.space import Real, Categorical, Integer\n",
    "from sklearn.metrics import r2_score , mean_squared_error\n",
    "import lightgbm\n",
    "url=\"C:/Users/louis/Downloads/Projet/\""
   ]
  },
  {
   "cell_type": "code",
   "execution_count": 2,
   "metadata": {
    "ExecuteTime": {
     "end_time": "2020-03-20T15:22:11.645544Z",
     "start_time": "2020-03-20T15:22:11.471776Z"
    }
   },
   "outputs": [],
   "source": [
    "# List of bank holidays\n",
    "bank_holidays = [\n",
    "    'January 1, 2011',\n",
    "    'January 17, 2011',\n",
    "    'February 21, 2011',\n",
    "    'May 30, 2011',\n",
    "    'July 4, 2011',\n",
    "    'September 5, 2011',\n",
    "    'October 10, 2011',\n",
    "    'November 11, 2011',\n",
    "    'November 24, 2011',\n",
    "    'December 25, 2011',\n",
    "    'December 26, 2011',\n",
    "    'January 1, 2012',\n",
    "    'January 2, 2012',\n",
    "    'January 16, 2012',\n",
    "    'February 20, 2012',\n",
    "    'May 28, 2012',\n",
    "    'July 4, 2012',\n",
    "    'September 3, 2012',\n",
    "    'October 8, 2012',\n",
    "    'November 11, 2012',\n",
    "    'November 12, 2012',\n",
    "    'November 22, 2012',\n",
    "    'December 25, 2012',\n",
    "    'January 1, 2013',\n",
    "    'January 21, 2013',\n",
    "    'February 18, 2013',\n",
    "    'May 27, 2013',\n",
    "    'July 4, 2013',\n",
    "    'September 2, 2013',\n",
    "    'October 14, 2013',\n",
    "    'November 11, 2013',\n",
    "    'November 28, 2013',\n",
    "    'December 25, 2013'\n",
    "]\n",
    "bank_holidays = pd.to_datetime(bank_holidays)\n",
    "\n",
    "new_date_data = pd.DataFrame(index=pd.date_range(pd.to_datetime('2011-09-01'), pd.to_datetime('2013-05-03')))\n",
    "new_date_data['is_weekend'] = False\n",
    "new_date_data['is_holiday'] = False\n",
    "new_date_data['is_close_from_weekend_or_holiday'] = False\n",
    "\n",
    "# For every day in our time range\n",
    "for current_date in new_date_data.index:\n",
    "    if current_date.dayofweek >= 5:\n",
    "        new_date_data.loc[current_date, 'is_weekend'] = True\n",
    "    if current_date in bank_holidays:\n",
    "        new_date_data.loc[current_date, 'is_holiday'] = True\n",
    "    # Bridge between weekend and bank holiday\n",
    "    # Rule: today is not weekend and yesterday and tomorrow are bank holidays or weekend\n",
    "    yesterday = current_date - pd.to_timedelta(1, 'D')\n",
    "    tomorrow = current_date + pd.to_timedelta(1, 'D')\n",
    "    if (current_date.dayofweek < 5) and (\n",
    "        yesterday.dayofweek >= 5 or yesterday in bank_holidays or tomorrow.dayofweek >= 5 or tomorrow in bank_holidays\n",
    "    ):\n",
    "        new_date_data.loc[current_date, 'is_close_from_weekend_or_holiday'] = True\n",
    "        \n",
    "new_date_data=new_date_data.reset_index()\n",
    "new_date_data.rename(columns={'index': 'DateOfDeparture'}, inplace=True)"
   ]
  },
  {
   "cell_type": "code",
   "execution_count": 3,
   "metadata": {
    "ExecuteTime": {
     "end_time": "2020-03-20T15:22:12.128393Z",
     "start_time": "2020-03-20T15:22:11.646579Z"
    }
   },
   "outputs": [],
   "source": [
    "# Airport dataset containing coordinates and elevation\n",
    "df = pd.read_csv(url+\"airports.csv\")\n",
    "\n",
    "new_airport_data = pd.DataFrame(index=['ORD', 'LAS', 'DEN', 'ATL', 'SFO', 'EWR', 'IAH', 'LAX', 'DFW',\n",
    "       'SEA', 'JFK', 'PHL', 'MIA', 'DTW', 'BOS', 'MSP', 'CLT', 'MCO',\n",
    "       'PHX', 'LGA'], columns=['lat', 'lon', 'elevation'])\n",
    "# Population in 2018 per cities according to\n",
    "# https://en.wikipedia.org/wiki/List_of_United_States_cities_by_population\n",
    "new_airport_data['city_population'] = [\n",
    "    2705994, 644644, 716492, 498044, 883305, 8398748, 2325502, 3990456, 1345047, 744955, 8398748, 1584138, 470914, \n",
    "    672662, 694583, 425403, 872498, 285713, 1660272, 8398748\n",
    "]\n",
    "\n",
    "for current_airport in new_airport_data.index:\n",
    "    found = df.loc[\n",
    "        np.logical_and(df['iso_country'] == 'US', df['local_code'] == current_airport),\n",
    "        ['latitude_deg', 'longitude_deg', 'elevation_ft']\n",
    "    ]\n",
    "    new_airport_data.loc[current_airport, ['lat', 'lon', 'elevation']] = found.iloc[0,:].values\n",
    "\n",
    "\n",
    "new_airport_data=new_airport_data.reset_index()\n",
    "new_airport_data.rename(columns={'index': 'AirPort'}, inplace=True)"
   ]
  },
  {
   "cell_type": "code",
   "execution_count": 4,
   "metadata": {
    "ExecuteTime": {
     "end_time": "2020-03-20T15:22:12.178741Z",
     "start_time": "2020-03-20T15:22:12.130034Z"
    }
   },
   "outputs": [],
   "source": [
    "# Export to the external_data.csv\n",
    "external_data = pd.read_csv(url+\"old_external_data.csv\")\n",
    "external_data['Date']=pd.to_datetime(external_data['Date'])"
   ]
  },
  {
   "cell_type": "code",
   "execution_count": 5,
   "metadata": {
    "ExecuteTime": {
     "end_time": "2020-03-20T15:22:12.220922Z",
     "start_time": "2020-03-20T15:22:12.181786Z"
    }
   },
   "outputs": [],
   "source": [
    "USA = pd.read_excel(url+\"USA.xlsx\")"
   ]
  },
  {
   "cell_type": "code",
   "execution_count": 6,
   "metadata": {
    "ExecuteTime": {
     "end_time": "2020-03-20T15:22:12.250447Z",
     "start_time": "2020-03-20T15:22:12.222886Z"
    }
   },
   "outputs": [],
   "source": [
    "tab1= external_data.merge(new_date_data,how='left',left_on=\"Date\",right_on=\"DateOfDeparture\")\n",
    "tab2 = USA.merge(new_airport_data,how='left',left_on=\"AirPort\",right_on=\"AirPort\")\n",
    "final=tab1.merge(tab2,how=\"left\",left_on=\"AirPort\",right_on=\"AirPort\")\n",
    "final[\"Date\"]=pd.to_datetime(final[\"Date\"])\n",
    "final.to_csv(url+\"Ajout_données.csv\", index=False)"
   ]
  }
 ],
 "metadata": {
  "kernelspec": {
   "display_name": "Python 3",
   "language": "python",
   "name": "python3"
  },
  "language_info": {
   "codemirror_mode": {
    "name": "ipython",
    "version": 3
   },
   "file_extension": ".py",
   "mimetype": "text/x-python",
   "name": "python",
   "nbconvert_exporter": "python",
   "pygments_lexer": "ipython3",
   "version": "3.7.4"
  }
 },
 "nbformat": 4,
 "nbformat_minor": 2
}
